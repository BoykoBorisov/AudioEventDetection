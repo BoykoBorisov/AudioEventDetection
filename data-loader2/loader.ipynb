{
 "cells": [
  {
   "cell_type": "code",
   "execution_count": null,
   "metadata": {},
   "outputs": [],
   "source": [
    "import csv\n",
    "import subprocess\n",
    "import utils\n",
    "\n",
    "from multiprocessing import Pool\n",
    "from os.path import exists\n"
   ]
  },
  {
   "cell_type": "code",
   "execution_count": null,
   "metadata": {},
   "outputs": [],
   "source": [
    "blacklist = set([\"/m/09x0r\", \"/m/04rlf\"])\n",
    "dest = \"output\"\n",
    "\n",
    "def is_blacklist_entry(entry):\n",
    "  for label in entry:\n",
    "    if label not in blacklist:\n",
    "      return False\n",
    "  return True\n",
    "\n",
    "def download_file(csv_row):\n",
    "  cmd = \"ffmpeg -ss {start} -t 10 -i $(youtube-dl -g -f 'bestaudio' \\\"https://youtube.com/watch?v={id}\\\") -ar {fs} -- \\\"{dest}/{id}_{start}.wav\\\"\"\n",
    "  cmd = cmd.format(\n",
    "    start = str(csv_row[1].strip().strip(\",\")), \n",
    "    id = csv_row[0].strip(\",\"), \n",
    "    dest = dest, \n",
    "    fs = str(16000))\n",
    "  # print(cmd)\n",
    "  # subprocess.call(\"youtube-dl\", shell = True)\n",
    "  subprocess.call(cmd, shell=True)\n",
    "\n",
    "def download_dataset(): \n",
    "  with open(\"unbalanced_train_segments.csv\") as csv_file:\n",
    "    csv_reader = csv.reader(csv_file, delimiter = \" \")\n",
    "    if __name__ == '__main__':\n",
    "      with Pool(processes=32) as pool:\n",
    "        pool.map(utils.download_file_if_not_blacklised, csv_reader)\n",
    "      '''\n",
    "    for row in csv_reader:\n",
    "      # print(row)\n",
    "      if not is_blacklist_entry(row[3].strip(\"\\\"\").split(\",\")):\n",
    "        download_file(row)\n",
    "      '''\n",
    "    \n",
    "def generate_blacklist_csv():\n",
    "   with open(\"unbalanced_train_segments.csv\") as csv_file:\n",
    "    with open(\"unbalanced_train_segments_flagged.csv\", \"w\") as flagged_csv_file:\n",
    "      reader = csv.reader(csv_file, delimiter = \" \")\n",
    "      writer = csv.writer(flagged_csv_file, delimiter = \" \")\n",
    "      for row in reader:\n",
    "        path = \"{dest}/{id}_{start}.wav\".format(start = str(row[1].strip().strip(\",\")), id = row[0].strip(\",\"), dest = dest)\n",
    "        if (exists(path)):\n",
    "          new_row = []\n",
    "          new_row += row\n",
    "          new_row += [\"downloaded\"]\n",
    "          writer.writerow(new_row)\n",
    "        else:\n",
    "          writer.writerow(row)\n"
   ]
  },
  {
   "cell_type": "code",
   "execution_count": null,
   "metadata": {},
   "outputs": [],
   "source": [
    "# with open(\"unbalanced_train_segments.csv\") as csv_file:\n",
    "#   csv_reader = csv.reader(csv_file, delimiter = \" \")\n",
    "#   for csv_row in csv_reader:\n",
    "#     print(exists(\"{dest}/{id}_{start}.wav\".format(start = str(csv_row[1].strip().strip(\",\")), id = csv_row[0].strip(\",\"), dest = dest)))"
   ]
  },
  {
   "cell_type": "code",
   "execution_count": null,
   "metadata": {},
   "outputs": [],
   "source": [
    "generate_blacklist_csv()"
   ]
  },
  {
   "cell_type": "code",
   "execution_count": null,
   "metadata": {},
   "outputs": [],
   "source": [
    "download_dataset()"
   ]
  },
  {
   "cell_type": "code",
   "execution_count": null,
   "metadata": {},
   "outputs": [],
   "source": []
  }
 ],
 "metadata": {
  "environment": {
   "kernel": "conda-root-py",
   "name": "common-cpu.m82",
   "type": "gcloud",
   "uri": "gcr.io/deeplearning-platform-release/base-cpu:m82"
  },
  "interpreter": {
   "hash": "31f2aee4e71d21fbe5cf8b01ff0e069b9275f58929596ceb00d14d90e3e16cd6"
  },
  "kernelspec": {
   "display_name": "Python [conda env:root] *",
   "language": "python",
   "name": "conda-root-py"
  },
  "language_info": {
   "codemirror_mode": {
    "name": "ipython",
    "version": 3
   },
   "file_extension": ".py",
   "mimetype": "text/x-python",
   "name": "python",
   "nbconvert_exporter": "python",
   "pygments_lexer": "ipython3",
   "version": "3.7.10"
  }
 },
 "nbformat": 4,
 "nbformat_minor": 4
}

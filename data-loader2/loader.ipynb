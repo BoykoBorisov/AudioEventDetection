{
 "cells": [
  {
   "cell_type": "code",
   "execution_count": 1,
   "metadata": {},
   "outputs": [],
   "source": [
    "import csv\n",
    "import subprocess\n",
    "import utils\n",
    "\n",
    "from multiprocessing import Pool\n",
    "from os.path import exists\n"
   ]
  },
  {
   "cell_type": "code",
   "execution_count": 4,
   "metadata": {},
   "outputs": [],
   "source": [
    "blacklist = set([\"/m/09x0r\", \"/m/04rlf\"])\n",
    "dest = \"output_bal_train\"\n",
    "\n",
    "def is_blacklist_entry(entry):\n",
    "  for label in entry:\n",
    "    if label not in blacklist:\n",
    "      return False\n",
    "  return True\n",
    "\n",
    "def download_file(csv_row):\n",
    "  cmd = \"ffmpeg -hide_banner -loglevel error -ss {start} -t 10 -i $(youtube-dl -g -f 'best' \\\"https://youtube.com/watch?v={id}\\\") -ar {fs} -- \\\"{dest}/{id}_{start}.wav\\\"\"\n",
    "  cmd = cmd.format(\n",
    "    start = str(csv_row[1].strip().strip(\",\")), \n",
    "    id = csv_row[0].strip(\",\"), \n",
    "    dest = dest, \n",
    "    fs = str(16000))\n",
    "  # print(cmd)\n",
    "  # subprocess.call(\"youtube-dl\", shell = True)\n",
    "  subprocess.call(cmd, shell=True)\n",
    "\n",
    "def download_dataset(): \n",
    "  with open(\"/Users/boykoborisov/Desktop/Uni/ThirdYearProject/datasets/Audioset/balanced_train_segments.csv\") as csv_file:\n",
    "    csv_reader = csv.reader(csv_file, delimiter = \" \")\n",
    "    if __name__ == '__main__':\n",
    "      with Pool(processes=4) as pool:\n",
    "        pool.map(utils.download_file_if_not_blacklised, csv_reader)\n",
    "    \n",
    "def generate_blacklist_csv():\n",
    "   with open(\"unbalanced_train_segments_flagged.csv\") as csv_file:\n",
    "    with open(\"unbalanced_train_segments_flagged_2.csv\", \"w\") as flagged_csv_file:\n",
    "      reader = csv.reader(csv_file, delimiter = \" \")\n",
    "      writer = csv.writer(flagged_csv_file, delimiter = \" \")\n",
    "      for row in reader:\n",
    "        path = \"{dest}/{id}_{start}.wav\".format(start = str(row[1].strip().strip(\",\")), id = row[0].strip(\",\"), dest = dest)\n",
    "        if (exists(path)):\n",
    "          new_row = []\n",
    "          new_row += row\n",
    "          new_row += [\"downloaded\"]\n",
    "          writer.writerow(new_row)\n",
    "        else:\n",
    "          writer.writerow(row)\n"
   ]
  },
  {
   "cell_type": "code",
   "execution_count": null,
   "metadata": {},
   "outputs": [],
   "source": [
    "# with open(\"unbalanced_train_segments.csv\") as csv_file:\n",
    "#   csv_reader = csv.reader(csv_file, delimiter = \" \")\n",
    "#   for csv_row in csv_reader:\n",
    "#     print(exists(\"{dest}/{id}_{start}.wav\".format(start = str(csv_row[1].strip().strip(\",\")), id = csv_row[0].strip(\",\"), dest = dest)))"
   ]
  },
  {
   "cell_type": "code",
   "execution_count": 7,
   "metadata": {},
   "outputs": [],
   "source": [
    "generate_blacklist_csv()"
   ]
  },
  {
   "cell_type": "code",
   "execution_count": 6,
   "metadata": {},
   "outputs": [
    {
     "name": "stderr",
     "output_type": "stream",
     "text": [
      "https://rr4---sn-aigl6nsk.googlevideo.com/videoplayback?expire=1642464691&ei=U7HlYaPzKIi8WK_xoJAC&ip=2a01%3A4b00%3Ae41a%3A8800%3A802e%3A94b4%3A9a22%3Ac706&id=o-ADONJa4TAPR62bVUmTuZ23pVwyh-7b1CNNXk8-shKqop&itag=251&source=youtube&requiressl=yes&mh=Au&mm=31%2C26&mn=sn-aigl6nsk%2Csn-25ge7ns7&ms=au%2Conr&mv=m&mvi=4&pl=38&initcwndbps=2412500&vprv=1&mime=audio%2Fwebm&ns=4Y_mbEvaQhAc0rBdFLRFnnYG&gir=yes&clen=5981802&dur=312.621&lmt=1497241786249137&mt=1642442705&fvip=4&keepalive=yes&fexp=24001373%2C24007246&c=WEB&n=g33EkH2fL_gsUs1YztySZ&sparams=expire%2Cei%2Cip%2Cid%2Citag%2Csource%2Crequiressl%2Cvprv%2Cmime%2Cns%2Cgir%2Cclen%2Cdur%2Clmt&lsparams=mh%2Cmm%2Cmn%2Cms%2Cmv%2Cmvi%2Cpl%2Cinitcwndbps&lsig=AG3C_xAwRAIgaRN9tKBYFcznUgvUd-76LtVypbMdJk58mJcJdcDJn70CIEpMeW5oCPxo-sH03NBpHJLS30n3sTpvXDjRaDMoc4NY&sig=AOq0QJ8wRAIgE2wi6wt5Teh7MweCxhQMc8gZASZsryMXego4TWNllD4CIA9OfaFnAyonUhZo_oT0ld8JV7iP2poFevwUJ8fNL_y5: Server returned 403 Forbidden (access denied)\n",
      "ERROR: Video unavailable\n",
      "-ar: No such file or directory\n",
      "WARNING: Falling back on generic information extractor.\n",
      "https://rr1---sn-aigl6nl7.googlevideo.com/videoplayback?expire=1642464693&ei=VbHlYaiIIYCRxN8PgYqc4AY&ip=2a01%3A4b00%3Ae41a%3A8800%3A802e%3A94b4%3A9a22%3Ac706&id=o-AC2TEWvBIDnwLqFyRP9orwn2HBtTjX0GzZI7KjijEJJm&itag=140&source=youtube&requiressl=yes&mh=Kh&mm=31%2C29&mn=sn-aigl6nl7%2Csn-aigzrner&ms=au%2Crdu&mv=m&mvi=1&pl=38&initcwndbps=2173750&vprv=1&mime=audio%2Fmp4&ns=Yw5vshzRB1cRsDaRPK8AP-0G&gir=yes&clen=3581069&otfp=1&dur=301.325&lmt=1384731244968748&mt=1642442931&fvip=6&keepalive=yes&fexp=24001373%2C24007246&c=WEB&n=93fFQoqYLAhUXovXT43Di&sparams=expire%2Cei%2Cip%2Cid%2Citag%2Csource%2Crequiressl%2Cvprv%2Cmime%2Cns%2Cgir%2Cclen%2Cotfp%2Cdur%2Clmt&lsparams=mh%2Cmm%2Cmn%2Cms%2Cmv%2Cmvi%2Cpl%2Cinitcwndbps&lsig=AG3C_xAwRQIgZlEwRBJMjxK71tTkS46R_tKEbipd9DZIeNnJBRLzu3wCIQDA7zGPP4-BR0fSLpkDw_OPSy2cTSdtu0cE0wgcshhjKA%3D%3D&sig=AOq0QJ8wRgIhAK0xYg7sXKEJCYAUUQUPEyE_3VT1tHjLsiGUvtriKYdtAiEA1GkXUai3Bu-nhPp92ZLtVnVRcsYeZl00ILurcSMiCLY=: Server returned 403 Forbidden (access denied)\n",
      "ERROR: Unsupported URL: https://www.youtube.com/\n",
      "Invalid duration specification for ss: Segments\n",
      "https://rr5---sn-aigzrney.googlevideo.com/videoplayback?expire=1642464694&ei=VrHlYZaRJoOj1gaIj6WABw&ip=2a01%3A4b00%3Ae41a%3A8800%3A802e%3A94b4%3A9a22%3Ac706&id=o-AFn0i7Rnn2qqP178jo7lMNECPPVBAUdaZf92LzsO9afO&itag=251&source=youtube&requiressl=yes&mh=1L&mm=31%2C29&mn=sn-aigzrney%2Csn-aigl6nek&ms=au%2Crdu&mv=m&mvi=5&pl=38&initcwndbps=2412500&vprv=1&mime=audio%2Fwebm&ns=Ycak3w2yF6BgcFm6f4O7tdwG&gir=yes&clen=702615&dur=44.061&lmt=1447494785408625&mt=1642442705&fvip=5&keepalive=yes&fexp=24001373%2C24007246&c=WEB&n=BMtjPvlTY307M6D1xu5aE&sparams=expire%2Cei%2Cip%2Cid%2Citag%2Csource%2Crequiressl%2Cvprv%2Cmime%2Cns%2Cgir%2Cclen%2Cdur%2Clmt&sig=AOq0QJ8wRQIhAMmqim5-OmT9Sxe_x4BBoPSO2GCCcQSk70ypq8GRZMGxAiB3yxCbl0YOjwNJsyjVAsQORDGaWNY5kw-uzGaJwpzK6Q%3D%3D&lsparams=mh%2Cmm%2Cmn%2Cms%2Cmv%2Cmvi%2Cpl%2Cinitcwndbps&lsig=AG3C_xAwRQIhALrF4UpG9rYE_FyVS2nNesbIV4dBt6tx-cRdb4-sXNPFAiAft3pONNArLNqW4alu5QHtyX0hshOZf1xfgR7ge4JeGg%3D%3D: Server returned 403 Forbidden (access denied)\n",
      "WARNING: Falling back on generic information extractor.\n",
      "ERROR: Unsupported URL: https://www.youtube.com/\n",
      "Invalid duration specification for ss: num_ytids=22160\n",
      "WARNING: Falling back on generic information extractor.\n",
      "ERROR: Unsupported URL: https://www.youtube.com/\n",
      "Invalid duration specification for ss: YTID\n",
      "ERROR: Video unavailable\n",
      "This video is no longer available because the YouTube account associated with this video has been terminated.\n",
      "-ar: No such file or directory\n",
      "[tls @ 0x7fdfba0048c0] IO Error: -9806\n",
      "[tls @ 0x7f96a7f05cc0] Unable to negotiate TLS/SSL session: -9806\n",
      "https://rr3---sn-aigzrn7d.googlevideo.com/videoplayback?expire=1642464706&ei=YrHlYdHBDaeCxN8P_7qfwAc&ip=2a01%3A4b00%3Ae41a%3A8800%3A802e%3A94b4%3A9a22%3Ac706&id=o-ACL7EX4_u44h6FMzNbBU3FcJKK2H8OI2zoariUEew30_&itag=140&source=youtube&requiressl=yes&mh=ED&mm=31%2C29&mn=sn-aigzrn7d%2Csn-aigl6ney&ms=au%2Crdu&mv=m&mvi=3&pl=38&pcm2=no&initcwndbps=2426250&vprv=1&mime=audio%2Fmp4&ns=zDGbRUvO187NKKuAwR7O-HkG&gir=yes&clen=138193&otfp=1&dur=8.661&lmt=1379752182878421&mt=1642442931&fvip=3&keepalive=yes&fexp=24001373%2C24007246&c=WEB&n=7t0xFJfzIBGQlwheJDzks&sparams=expire%2Cei%2Cip%2Cid%2Citag%2Csource%2Crequiressl%2Cpcm2%2Cvprv%2Cmime%2Cns%2Cgir%2Cclen%2Cotfp%2Cdur%2Clmt&sig=AOq0QJ8wRQIhALqAGEoelshNmrZrTLPxs40dWYGp3PPlRY3S1Q6y0wU3AiB6T7Sex6A0dGL0_P_txyVNkXj5s8pDkp_bLmH6WFf69A%3D%3D&lsparams=mh%2Cmm%2Cmn%2Cms%2Cmv%2Cmvi%2Cpl%2Cinitcwndbps&lsig=AG3C_xAwRQIgE9vu1wNNEBhHEuiA6ExSkNoOK0L7nGRNLCb7grSDN44CIQD-NYsLKcDS3IwZsQTskhOtzUpe1sXEnHLjOYTdXVm1Ww%3D%3D: Input/output error\n",
      "https://rr2---sn-aigzrn7z.googlevideo.com/videoplayback?expire=1642464706&ei=YbHlYcHtOIqh1gaC7KjYDQ&ip=2a01%3A4b00%3Ae41a%3A8800%3A802e%3A94b4%3A9a22%3Ac706&id=o-ANpIIGLLdOh4zUsrjxAVa_ZM9XIed7QDc4nMRALUd5ZG&itag=251&source=youtube&requiressl=yes&mh=4L&mm=31%2C26&mn=sn-aigzrn7z%2Csn-25ge7nsd&ms=au%2Conr&mv=m&mvi=2&pl=38&pcm2=no&initcwndbps=2412500&vprv=1&mime=audio%2Fwebm&ns=j88_FGFchf4qshWOsfn02lQG&gir=yes&clen=409770&otfp=1&dur=20.001&lmt=1430283806222505&mt=1642442705&fvip=2&keepalive=yes&fexp=24001373%2C24007246&c=WEB&n=xj3BgIg_BjSxQLVhUE0jd&sparams=expire%2Cei%2Cip%2Cid%2Citag%2Csource%2Crequiressl%2Cpcm2%2Cvprv%2Cmime%2Cns%2Cgir%2Cclen%2Cotfp%2Cdur%2Clmt&sig=AOq0QJ8wRQIhAJoJ-5VjzS9ecAf3ZnJCTl24bJ3qIfUG7XmUTAkpmauZAiBVGzlW7xlB4uahv8OLvfbR5lNjG331B7_HU-ZdoNZQbQ%3D%3D&lsparams=mh%2Cmm%2Cmn%2Cms%2Cmv%2Cmvi%2Cpl%2Cinitcwndbps&lsig=AG3C_xAwRQIgFhWKxJ7yU7Sb1qZHYB4O8b6O6H-mGtz2Gtw0sXpjejgCIQDZRiAke7moCgjq_sNxJedih0hI_eicvcYhHiV9iLtnlQ%3D%3D: Immediate exit requested\n",
      "Process SpawnPoolWorker-10:\n"
     ]
    },
    {
     "ename": "KeyboardInterrupt",
     "evalue": "",
     "output_type": "error",
     "traceback": [
      "\u001b[0;31m---------------------------------------------------------------------------\u001b[0m",
      "\u001b[0;31mKeyboardInterrupt\u001b[0m                         Traceback (most recent call last)",
      "\u001b[0;32m/var/folders/rz/p14k48tx7992r4lmtv_ljjcm0000gn/T/ipykernel_87524/1720604941.py\u001b[0m in \u001b[0;36m<module>\u001b[0;34m\u001b[0m\n\u001b[0;32m----> 1\u001b[0;31m \u001b[0mdownload_dataset\u001b[0m\u001b[0;34m(\u001b[0m\u001b[0;34m)\u001b[0m\u001b[0;34m\u001b[0m\u001b[0;34m\u001b[0m\u001b[0m\n\u001b[0m",
      "\u001b[0;32m/var/folders/rz/p14k48tx7992r4lmtv_ljjcm0000gn/T/ipykernel_87524/3329439612.py\u001b[0m in \u001b[0;36mdownload_dataset\u001b[0;34m()\u001b[0m\n\u001b[1;32m     24\u001b[0m     \u001b[0;32mif\u001b[0m \u001b[0m__name__\u001b[0m \u001b[0;34m==\u001b[0m \u001b[0;34m'__main__'\u001b[0m\u001b[0;34m:\u001b[0m\u001b[0;34m\u001b[0m\u001b[0;34m\u001b[0m\u001b[0m\n\u001b[1;32m     25\u001b[0m       \u001b[0;32mwith\u001b[0m \u001b[0mPool\u001b[0m\u001b[0;34m(\u001b[0m\u001b[0mprocesses\u001b[0m\u001b[0;34m=\u001b[0m\u001b[0;36m4\u001b[0m\u001b[0;34m)\u001b[0m \u001b[0;32mas\u001b[0m \u001b[0mpool\u001b[0m\u001b[0;34m:\u001b[0m\u001b[0;34m\u001b[0m\u001b[0;34m\u001b[0m\u001b[0m\n\u001b[0;32m---> 26\u001b[0;31m         \u001b[0mpool\u001b[0m\u001b[0;34m.\u001b[0m\u001b[0mmap\u001b[0m\u001b[0;34m(\u001b[0m\u001b[0mutils\u001b[0m\u001b[0;34m.\u001b[0m\u001b[0mdownload_file_if_not_blacklised\u001b[0m\u001b[0;34m,\u001b[0m \u001b[0mcsv_reader\u001b[0m\u001b[0;34m)\u001b[0m\u001b[0;34m\u001b[0m\u001b[0;34m\u001b[0m\u001b[0m\n\u001b[0m\u001b[1;32m     27\u001b[0m \u001b[0;34m\u001b[0m\u001b[0m\n\u001b[1;32m     28\u001b[0m \u001b[0;32mdef\u001b[0m \u001b[0mgenerate_blacklist_csv\u001b[0m\u001b[0;34m(\u001b[0m\u001b[0;34m)\u001b[0m\u001b[0;34m:\u001b[0m\u001b[0;34m\u001b[0m\u001b[0;34m\u001b[0m\u001b[0m\n",
      "\u001b[0;32m/opt/homebrew/Cellar/python@3.9/3.9.7_1/Frameworks/Python.framework/Versions/3.9/lib/python3.9/multiprocessing/pool.py\u001b[0m in \u001b[0;36mmap\u001b[0;34m(self, func, iterable, chunksize)\u001b[0m\n\u001b[1;32m    362\u001b[0m         \u001b[0;32min\u001b[0m \u001b[0ma\u001b[0m \u001b[0mlist\u001b[0m \u001b[0mthat\u001b[0m \u001b[0;32mis\u001b[0m \u001b[0mreturned\u001b[0m\u001b[0;34m.\u001b[0m\u001b[0;34m\u001b[0m\u001b[0;34m\u001b[0m\u001b[0m\n\u001b[1;32m    363\u001b[0m         '''\n\u001b[0;32m--> 364\u001b[0;31m         \u001b[0;32mreturn\u001b[0m \u001b[0mself\u001b[0m\u001b[0;34m.\u001b[0m\u001b[0m_map_async\u001b[0m\u001b[0;34m(\u001b[0m\u001b[0mfunc\u001b[0m\u001b[0;34m,\u001b[0m \u001b[0miterable\u001b[0m\u001b[0;34m,\u001b[0m \u001b[0mmapstar\u001b[0m\u001b[0;34m,\u001b[0m \u001b[0mchunksize\u001b[0m\u001b[0;34m)\u001b[0m\u001b[0;34m.\u001b[0m\u001b[0mget\u001b[0m\u001b[0;34m(\u001b[0m\u001b[0;34m)\u001b[0m\u001b[0;34m\u001b[0m\u001b[0;34m\u001b[0m\u001b[0m\n\u001b[0m\u001b[1;32m    365\u001b[0m \u001b[0;34m\u001b[0m\u001b[0m\n\u001b[1;32m    366\u001b[0m     \u001b[0;32mdef\u001b[0m \u001b[0mstarmap\u001b[0m\u001b[0;34m(\u001b[0m\u001b[0mself\u001b[0m\u001b[0;34m,\u001b[0m \u001b[0mfunc\u001b[0m\u001b[0;34m,\u001b[0m \u001b[0miterable\u001b[0m\u001b[0;34m,\u001b[0m \u001b[0mchunksize\u001b[0m\u001b[0;34m=\u001b[0m\u001b[0;32mNone\u001b[0m\u001b[0;34m)\u001b[0m\u001b[0;34m:\u001b[0m\u001b[0;34m\u001b[0m\u001b[0;34m\u001b[0m\u001b[0m\n",
      "\u001b[0;32m/opt/homebrew/Cellar/python@3.9/3.9.7_1/Frameworks/Python.framework/Versions/3.9/lib/python3.9/multiprocessing/pool.py\u001b[0m in \u001b[0;36mget\u001b[0;34m(self, timeout)\u001b[0m\n\u001b[1;32m    763\u001b[0m \u001b[0;34m\u001b[0m\u001b[0m\n\u001b[1;32m    764\u001b[0m     \u001b[0;32mdef\u001b[0m \u001b[0mget\u001b[0m\u001b[0;34m(\u001b[0m\u001b[0mself\u001b[0m\u001b[0;34m,\u001b[0m \u001b[0mtimeout\u001b[0m\u001b[0;34m=\u001b[0m\u001b[0;32mNone\u001b[0m\u001b[0;34m)\u001b[0m\u001b[0;34m:\u001b[0m\u001b[0;34m\u001b[0m\u001b[0;34m\u001b[0m\u001b[0m\n\u001b[0;32m--> 765\u001b[0;31m         \u001b[0mself\u001b[0m\u001b[0;34m.\u001b[0m\u001b[0mwait\u001b[0m\u001b[0;34m(\u001b[0m\u001b[0mtimeout\u001b[0m\u001b[0;34m)\u001b[0m\u001b[0;34m\u001b[0m\u001b[0;34m\u001b[0m\u001b[0m\n\u001b[0m\u001b[1;32m    766\u001b[0m         \u001b[0;32mif\u001b[0m \u001b[0;32mnot\u001b[0m \u001b[0mself\u001b[0m\u001b[0;34m.\u001b[0m\u001b[0mready\u001b[0m\u001b[0;34m(\u001b[0m\u001b[0;34m)\u001b[0m\u001b[0;34m:\u001b[0m\u001b[0;34m\u001b[0m\u001b[0;34m\u001b[0m\u001b[0m\n\u001b[1;32m    767\u001b[0m             \u001b[0;32mraise\u001b[0m \u001b[0mTimeoutError\u001b[0m\u001b[0;34m\u001b[0m\u001b[0;34m\u001b[0m\u001b[0m\n",
      "\u001b[0;32m/opt/homebrew/Cellar/python@3.9/3.9.7_1/Frameworks/Python.framework/Versions/3.9/lib/python3.9/multiprocessing/pool.py\u001b[0m in \u001b[0;36mwait\u001b[0;34m(self, timeout)\u001b[0m\n\u001b[1;32m    760\u001b[0m \u001b[0;34m\u001b[0m\u001b[0m\n\u001b[1;32m    761\u001b[0m     \u001b[0;32mdef\u001b[0m \u001b[0mwait\u001b[0m\u001b[0;34m(\u001b[0m\u001b[0mself\u001b[0m\u001b[0;34m,\u001b[0m \u001b[0mtimeout\u001b[0m\u001b[0;34m=\u001b[0m\u001b[0;32mNone\u001b[0m\u001b[0;34m)\u001b[0m\u001b[0;34m:\u001b[0m\u001b[0;34m\u001b[0m\u001b[0;34m\u001b[0m\u001b[0m\n\u001b[0;32m--> 762\u001b[0;31m         \u001b[0mself\u001b[0m\u001b[0;34m.\u001b[0m\u001b[0m_event\u001b[0m\u001b[0;34m.\u001b[0m\u001b[0mwait\u001b[0m\u001b[0;34m(\u001b[0m\u001b[0mtimeout\u001b[0m\u001b[0;34m)\u001b[0m\u001b[0;34m\u001b[0m\u001b[0;34m\u001b[0m\u001b[0m\n\u001b[0m\u001b[1;32m    763\u001b[0m \u001b[0;34m\u001b[0m\u001b[0m\n\u001b[1;32m    764\u001b[0m     \u001b[0;32mdef\u001b[0m \u001b[0mget\u001b[0m\u001b[0;34m(\u001b[0m\u001b[0mself\u001b[0m\u001b[0;34m,\u001b[0m \u001b[0mtimeout\u001b[0m\u001b[0;34m=\u001b[0m\u001b[0;32mNone\u001b[0m\u001b[0;34m)\u001b[0m\u001b[0;34m:\u001b[0m\u001b[0;34m\u001b[0m\u001b[0;34m\u001b[0m\u001b[0m\n",
      "\u001b[0;32m/opt/homebrew/Cellar/python@3.9/3.9.7_1/Frameworks/Python.framework/Versions/3.9/lib/python3.9/threading.py\u001b[0m in \u001b[0;36mwait\u001b[0;34m(self, timeout)\u001b[0m\n\u001b[1;32m    572\u001b[0m             \u001b[0msignaled\u001b[0m \u001b[0;34m=\u001b[0m \u001b[0mself\u001b[0m\u001b[0;34m.\u001b[0m\u001b[0m_flag\u001b[0m\u001b[0;34m\u001b[0m\u001b[0;34m\u001b[0m\u001b[0m\n\u001b[1;32m    573\u001b[0m             \u001b[0;32mif\u001b[0m \u001b[0;32mnot\u001b[0m \u001b[0msignaled\u001b[0m\u001b[0;34m:\u001b[0m\u001b[0;34m\u001b[0m\u001b[0;34m\u001b[0m\u001b[0m\n\u001b[0;32m--> 574\u001b[0;31m                 \u001b[0msignaled\u001b[0m \u001b[0;34m=\u001b[0m \u001b[0mself\u001b[0m\u001b[0;34m.\u001b[0m\u001b[0m_cond\u001b[0m\u001b[0;34m.\u001b[0m\u001b[0mwait\u001b[0m\u001b[0;34m(\u001b[0m\u001b[0mtimeout\u001b[0m\u001b[0;34m)\u001b[0m\u001b[0;34m\u001b[0m\u001b[0;34m\u001b[0m\u001b[0m\n\u001b[0m\u001b[1;32m    575\u001b[0m             \u001b[0;32mreturn\u001b[0m \u001b[0msignaled\u001b[0m\u001b[0;34m\u001b[0m\u001b[0;34m\u001b[0m\u001b[0m\n\u001b[1;32m    576\u001b[0m \u001b[0;34m\u001b[0m\u001b[0m\n",
      "\u001b[0;32m/opt/homebrew/Cellar/python@3.9/3.9.7_1/Frameworks/Python.framework/Versions/3.9/lib/python3.9/threading.py\u001b[0m in \u001b[0;36mwait\u001b[0;34m(self, timeout)\u001b[0m\n\u001b[1;32m    310\u001b[0m         \u001b[0;32mtry\u001b[0m\u001b[0;34m:\u001b[0m    \u001b[0;31m# restore state no matter what (e.g., KeyboardInterrupt)\u001b[0m\u001b[0;34m\u001b[0m\u001b[0;34m\u001b[0m\u001b[0m\n\u001b[1;32m    311\u001b[0m             \u001b[0;32mif\u001b[0m \u001b[0mtimeout\u001b[0m \u001b[0;32mis\u001b[0m \u001b[0;32mNone\u001b[0m\u001b[0;34m:\u001b[0m\u001b[0;34m\u001b[0m\u001b[0;34m\u001b[0m\u001b[0m\n\u001b[0;32m--> 312\u001b[0;31m                 \u001b[0mwaiter\u001b[0m\u001b[0;34m.\u001b[0m\u001b[0macquire\u001b[0m\u001b[0;34m(\u001b[0m\u001b[0;34m)\u001b[0m\u001b[0;34m\u001b[0m\u001b[0;34m\u001b[0m\u001b[0m\n\u001b[0m\u001b[1;32m    313\u001b[0m                 \u001b[0mgotit\u001b[0m \u001b[0;34m=\u001b[0m \u001b[0;32mTrue\u001b[0m\u001b[0;34m\u001b[0m\u001b[0;34m\u001b[0m\u001b[0m\n\u001b[1;32m    314\u001b[0m             \u001b[0;32melse\u001b[0m\u001b[0;34m:\u001b[0m\u001b[0;34m\u001b[0m\u001b[0;34m\u001b[0m\u001b[0m\n",
      "\u001b[0;31mKeyboardInterrupt\u001b[0m: "
     ]
    }
   ],
   "source": [
    "download_dataset()"
   ]
  },
  {
   "cell_type": "code",
   "execution_count": null,
   "metadata": {},
   "outputs": [],
   "source": []
  }
 ],
 "metadata": {
  "environment": {
   "kernel": "conda-root-py",
   "name": "common-cpu.m82",
   "type": "gcloud",
   "uri": "gcr.io/deeplearning-platform-release/base-cpu:m82"
  },
  "interpreter": {
   "hash": "b0fa6594d8f4cbf19f97940f81e996739fb7646882a419484c72d19e05852a7e"
  },
  "kernelspec": {
   "display_name": "Python 3.9.7 64-bit",
   "name": "python3"
  },
  "language_info": {
   "codemirror_mode": {
    "name": "ipython",
    "version": 3
   },
   "file_extension": ".py",
   "mimetype": "text/x-python",
   "name": "python",
   "nbconvert_exporter": "python",
   "pygments_lexer": "ipython3",
   "version": "3.9.7"
  }
 },
 "nbformat": 4,
 "nbformat_minor": 4
}
